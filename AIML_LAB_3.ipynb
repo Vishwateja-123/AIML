{
  "nbformat": 4,
  "nbformat_minor": 0,
  "metadata": {
    "colab": {
      "provenance": [],
      "authorship_tag": "ABX9TyMycUr+TJ7xhIEQOtclkjTN",
      "include_colab_link": true
    },
    "kernelspec": {
      "name": "python3",
      "display_name": "Python 3"
    },
    "language_info": {
      "name": "python"
    }
  },
  "cells": [
    {
      "cell_type": "markdown",
      "metadata": {
        "id": "view-in-github",
        "colab_type": "text"
      },
      "source": [
        "<a href=\"https://colab.research.google.com/github/Vishwateja-123/AIML/blob/main/AIML_LAB_3.ipynb\" target=\"_parent\"><img src=\"https://colab.research.google.com/assets/colab-badge.svg\" alt=\"Open In Colab\"/></a>"
      ]
    },
    {
      "cell_type": "code",
      "source": [
        "from collections import deque\n",
        "\n",
        "def bfs(graph, start):\n",
        "    visited = set()\n",
        "    queue = deque([start])\n",
        "    result = []\n",
        "\n",
        "    while queue:\n",
        "        vertex = queue.popleft()\n",
        "        if vertex not in visited:\n",
        "            visited.add(vertex)\n",
        "            result.append(vertex)\n",
        "            queue.extend(neighbor for neighbor in graph[vertex] if neighbor not in visited)\n",
        "\n",
        "    return result\n",
        "\n",
        "if __name__ == '__main__':\n",
        "    graph = {\n",
        "        '0': ['1', '3'],\n",
        "        '1': ['0', '2', '3'],\n",
        "        '3': ['0', '4'],\n",
        "        '2': ['1'],\n",
        "        '4': ['2', '5'],\n",
        "        '5': ['2', '4']\n",
        "    }\n",
        "    start_node = '0'\n",
        "    print(f\"BFS traversal starting from vertex {start_node}: {bfs(graph, start_node)}\")\n"
      ],
      "metadata": {
        "colab": {
          "base_uri": "https://localhost:8080/",
          "height": 0
        },
        "id": "hU0POhYESMmx",
        "outputId": "1953f125-6674-43c6-8e31-2306a6952eaf"
      },
      "execution_count": 12,
      "outputs": [
        {
          "output_type": "stream",
          "name": "stdout",
          "text": [
            "BFS traversal starting from vertex 0: ['0', '1', '3', '2', '4', '5']\n"
          ]
        }
      ]
    }
  ]
}