{
  "nbformat": 4,
  "nbformat_minor": 0,
  "metadata": {
    "colab": {
      "provenance": [],
      "authorship_tag": "ABX9TyNfzcgq/WQnuqgMA42mxXa8",
      "include_colab_link": true
    },
    "kernelspec": {
      "name": "python3",
      "display_name": "Python 3"
    },
    "language_info": {
      "name": "python"
    }
  },
  "cells": [
    {
      "cell_type": "markdown",
      "metadata": {
        "id": "view-in-github",
        "colab_type": "text"
      },
      "source": [
        "<a href=\"https://colab.research.google.com/github/Vishwateja-123/AIML_2303A52389_B44/blob/main/AIML_Lab-6.ipynb\" target=\"_parent\"><img src=\"https://colab.research.google.com/assets/colab-badge.svg\" alt=\"Open In Colab\"/></a>"
      ]
    },
    {
      "cell_type": "code",
      "execution_count": 1,
      "metadata": {
        "id": "XgfhVOUdXzgj"
      },
      "outputs": [],
      "source": [
        "# Compute Min-Max for Observed and Expected Prices\n",
        "import pandas as pd\n",
        "import statsmodels.api as sm"
      ]
    },
    {
      "cell_type": "code",
      "source": [
        "# Load the dataset\n",
        "url = \"https://raw.githubusercontent.com/selva86/datasets/master/BostonHousing.csv\"\n",
        "df = pd.read_csv(url)"
      ],
      "metadata": {
        "id": "tStQxDKOZPFl"
      },
      "execution_count": 10,
      "outputs": []
    },
    {
      "cell_type": "code",
      "source": [
        "# Define independent variables (features) and the dependent variable (Price)\n",
        "X = df[['crim', 'zn', 'indus', 'chas', 'nox', 'rm', 'age', 'dis', 'rad', 'tax', 'ptratio', 'b', 'lstat']]\n",
        "y = df['medv']  # 'medv' is the target variable (Observed Price)"
      ],
      "metadata": {
        "id": "Cs6F78RsZSnh"
      },
      "execution_count": 3,
      "outputs": []
    },
    {
      "cell_type": "code",
      "source": [
        "# Add a constant term (intercept) to the independent variables\n",
        "X = sm.add_constant(X)"
      ],
      "metadata": {
        "id": "rLZvHSJaZSrQ"
      },
      "execution_count": 4,
      "outputs": []
    },
    {
      "cell_type": "code",
      "source": [
        "# Fit the OLS regression model\n",
        "model = sm.OLS(y, X).fit()"
      ],
      "metadata": {
        "id": "xk8irXisZSux"
      },
      "execution_count": 5,
      "outputs": []
    },
    {
      "cell_type": "code",
      "source": [
        "# Make predictions (Expected Price)\n",
        "y_pred = model.predict(X)"
      ],
      "metadata": {
        "id": "vB_wOpQxZh4S"
      },
      "execution_count": 6,
      "outputs": []
    },
    {
      "cell_type": "code",
      "source": [
        "# Compute Min and Max values for Observed and Expected Prices\n",
        "min_observed = y.min()\n",
        "max_observed = y.max()\n",
        "\n",
        "min_expected = y_pred.min()\n",
        "max_expected = y_pred.max()"
      ],
      "metadata": {
        "id": "PboW4P5VZiC3"
      },
      "execution_count": 7,
      "outputs": []
    },
    {
      "cell_type": "code",
      "source": [
        "# Print the Min-Max values\n",
        "print(f\"Observed Price (Min, Max): ({min_observed}, {max_observed})\")\n",
        "print(f\"Expected Price (Min, Max): ({min_expected}, {max_expected})\")"
      ],
      "metadata": {
        "colab": {
          "base_uri": "https://localhost:8080/"
        },
        "id": "TgyHmGk-ZiGI",
        "outputId": "9895338a-ed9f-4316-a932-f92c919c3f0d"
      },
      "execution_count": 8,
      "outputs": [
        {
          "output_type": "stream",
          "name": "stdout",
          "text": [
            "Observed Price (Min, Max): (5.0, 50.0)\n",
            "Expected Price (Min, Max): (-4.281310709184915, 44.67308338731289)\n"
          ]
        }
      ]
    },
    {
      "cell_type": "code",
      "source": [
        "# MinMax Range between Observed and Expected Prices\n",
        "min_value = min(min_observed, min_expected)\n",
        "max_value = max(max_observed, max_expected)\n",
        "\n",
        "print(f\"MinMax Range between Observed and Expected Prices: ({min_value}, {max_value})\")"
      ],
      "metadata": {
        "colab": {
          "base_uri": "https://localhost:8080/"
        },
        "id": "YvyIFIuuZiKo",
        "outputId": "7330cbd6-a5d1-40ac-904c-2ab9ed3c5b59"
      },
      "execution_count": 9,
      "outputs": [
        {
          "output_type": "stream",
          "name": "stdout",
          "text": [
            "MinMax Range between Observed and Expected Prices: (-4.281310709184915, 50.0)\n"
          ]
        }
      ]
    },
    {
      "cell_type": "code",
      "source": [],
      "metadata": {
        "id": "Qqwb06lRZS9Z"
      },
      "execution_count": 1,
      "outputs": []
    }
  ]
}